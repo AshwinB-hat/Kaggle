{
 "cells": [
  {
   "cell_type": "code",
   "execution_count": null,
   "metadata": {},
   "outputs": [],
   "source": [
    "import pandas as pd \n",
    "import os\n",
    "import numpy as np\n",
    "import matplotlib.pyplot as plt\n",
    "import seaborn as sns\n",
    "import lightgbm as lgb\n",
    "from sklearn.model_selection import KFold\n",
    "import warnings\n",
    "import time\n",
    "import sys\n",
    "import datetime\n",
    "import matplotlib.pyplot as plt\n",
    "import datetime \n",
    "import seaborn as sns"
   ]
  },
  {
   "cell_type": "code",
   "execution_count": null,
   "metadata": {},
   "outputs": [],
   "source": [
    "warnings.filterwarnings('ignore')"
   ]
  },
  {
   "cell_type": "code",
   "execution_count": null,
   "metadata": {},
   "outputs": [],
   "source": [
    "os.listdir('./Input')\n",
    "path = './Input/'\n",
    "# df_hist = pd.read_csv(path+'historical_transactions.csv')\n",
    "# df_merch = pd.read_csv(path+'merchants.csv')\n",
    "# df_new_merch = pd.read_csv(path+'new_merchant_transactions.csv')\n",
    "df_test = pd.read_csv(path+'test.csv',parse_dates=['first_active_month'])\n",
    "df_train = pd.read_csv(path+'train.csv',parse_dates=['first_active_month'])\n",
    "\n"
   ]
  },
  {
   "cell_type": "code",
   "execution_count": null,
   "metadata": {},
   "outputs": [],
   "source": [
    "def binarize(df):\n",
    "    for col in ['authorized_flag','category_1']:\n",
    "        df[col] = df[col].map({'Y':1,'N':0})\n",
    "    return df\n",
    "df_hist = binarize(df_hist)\n",
    "df_new_merch = binarize(df_new_merch)"
   ]
  },
  {
   "cell_type": "code",
   "execution_count": null,
   "metadata": {},
   "outputs": [],
   "source": [
    "def add_days(df):\n",
    "    df['elapsed_time']= (datetime.date(2018,2,1) - pd.to_datetime(df['first_active_month']).dt.date).dt.days\n",
    "    return df\n",
    "df_test = add_days(df_test)\n",
    "df_train = add_days(df_train)"
   ]
  },
  {
   "cell_type": "markdown",
   "metadata": {},
   "source": [
    "# Data Visualisation\n"
   ]
  },
  {
   "cell_type": "code",
   "execution_count": null,
   "metadata": {},
   "outputs": [],
   "source": [
    "#train set against first active month\n",
    "cnt = df_train['first_active_month'].dt.date.value_counts()\n",
    "cnt = cnt.sort_index()\n",
    "\n",
    "plt.figure(figsize=(12,8))\n",
    "\n",
    "\n",
    "sns.barplot(cnt.index,cnt,alpha=0.8,color='red')\n",
    "\n",
    "plt.xticks(rotation='vertical')\n",
    "plt.xlabel('first active month')\n",
    "plt.ylabel('number of cards')\n",
    "\n",
    "#test set against first active month\n",
    "cnt = df_test['first_active_month'].dt.date.value_counts()\n",
    "cnt = cnt.sort_index()\n",
    "\n",
    "plt.figure(figsize=(12,8))\n",
    "\n",
    "\n",
    "sns.barplot(cnt.index,cnt,alpha=0.8,color='red')\n",
    "\n",
    "plt.xticks(rotation='vertical')\n",
    "plt.xlabel('first active month')\n",
    "plt.ylabel('number of cards')\n"
   ]
  },
  {
   "cell_type": "code",
   "execution_count": null,
   "metadata": {},
   "outputs": [],
   "source": [
    "fig,ax = plt.subplots(1,3,figsize=(20,5))\n",
    "sns.violinplot(df_train['feature_1'],df_train['target'],ax=ax[0],title='feature_1')\n",
    "sns.violinplot(df_train['feature_2'],df_train['target'],ax=ax[1],title='feature_2')\n",
    "sns.violinplot(df_train['feature_3'],df_train['target'],ax=ax[2],title='feature_3')\n",
    "plt.suptitle('Violin plots for features and targets ')"
   ]
  },
  {
   "cell_type": "markdown",
   "metadata": {},
   "source": [
    "Since each feature disttribution is almost the same, there wont be any individual effect on the target variable, Feature engineering will be required."
   ]
  },
  {
   "cell_type": "code",
   "execution_count": null,
   "metadata": {},
   "outputs": [],
   "source": [
    "import plotly.offline as py\n",
    "import plotly.graph_objs as go\n",
    "py.init_notebook_mode(connected=True)"
   ]
  },
  {
   "cell_type": "code",
   "execution_count": null,
   "metadata": {},
   "outputs": [],
   "source": [
    "import IPython \n",
    "IPython.__version__"
   ]
  },
  {
   "cell_type": "code",
   "execution_count": null,
   "metadata": {},
   "outputs": [],
   "source": [
    "\n",
    "for i in ['feature_1','feature_2','feature_3']:\n",
    "    data = list()\n",
    "    for j in sorted(df_train[i].unique()):\n",
    "        trace = {\n",
    "                \"type\": 'violin',\n",
    "                \"x\": df_train[i],\n",
    "                \"y\": df_train['target'],\n",
    "                \"name\": j,\n",
    "                \"box\": {\n",
    "                    \"visible\": True\n",
    "                },\n",
    "                \"meanline\": {\n",
    "                    \"visible\": True\n",
    "                }\n",
    "            }\n",
    "        data.append(trace)\n",
    "    fig = {\n",
    "    \"data\": data,\n",
    "    \"layout\" : {\n",
    "        \"title\": \"\",\n",
    "        \"yaxis\": {\n",
    "            \"zeroline\": False,\n",
    "            }\n",
    "        }\n",
    "    }\n",
    "    py.iplot(fig, filename='violin/multiple', validate = False)"
   ]
  },
  {
   "cell_type": "code",
   "execution_count": null,
   "metadata": {},
   "outputs": [],
   "source": [
    "df = pd.read_csv(\"https://raw.githubusercontent.com/plotly/datasets/master/violin_data.csv\")\n"
   ]
  },
  {
   "cell_type": "code",
   "execution_count": null,
   "metadata": {},
   "outputs": [],
   "source": [
    "py.init_notebook_mode(connected = True)\n",
    "py.iplot({'data': [{'y': [4, 2, 3, 4]}],\n",
    "               'layout': {'title': 'Test Plot',\n",
    "                          'font': dict(size=16)}},\n",
    "             image='png')\n",
    "\n"
   ]
  },
  {
   "cell_type": "code",
   "execution_count": null,
   "metadata": {},
   "outputs": [],
   "source": [
    "import numpy as np\n",
    "x = np.random.randn(1000)\n",
    "y = np.random.randn(1000)\n",
    "py.iplot(go.FigureWidget(data=[{'x': x, 'y': y, 'type': 'histogram2dcontour'}]))\n"
   ]
  },
  {
   "cell_type": "code",
   "execution_count": null,
   "metadata": {},
   "outputs": [],
   "source": []
  }
 ],
 "metadata": {
  "kernelspec": {
   "display_name": "Python 3",
   "language": "python",
   "name": "python3"
  },
  "language_info": {
   "codemirror_mode": {
    "name": "ipython",
    "version": 3
   },
   "file_extension": ".py",
   "mimetype": "text/x-python",
   "name": "python",
   "nbconvert_exporter": "python",
   "pygments_lexer": "ipython3",
   "version": "3.6.8"
  }
 },
 "nbformat": 4,
 "nbformat_minor": 2
}
